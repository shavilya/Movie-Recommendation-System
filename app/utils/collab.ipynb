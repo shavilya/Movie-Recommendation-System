{
 "cells": [
  {
   "cell_type": "code",
   "execution_count": null,
   "metadata": {},
   "outputs": [],
   "source": [
    "# install fastai\n",
    "#!pip install -Uqq fastbook"
   ]
  },
  {
   "cell_type": "code",
   "execution_count": 1,
   "metadata": {},
   "outputs": [],
   "source": [
    "import pandas as pd\n",
    "import re  \n",
    "import requests "
   ]
  },
  {
   "cell_type": "code",
   "execution_count": 3,
   "metadata": {},
   "outputs": [],
   "source": [
    "# code to preprocessing for collab model\n",
    "\n",
    "#df_overview = pd.read_csv(\"./artifacts/cleaned_dfs/overview_df_cleaned_df.csv\")\n",
    "#df_overview.drop([df_overview.columns[0]], axis=1, inplace=True)\n",
    "#df_overview.dropna(inplace=True)\n",
    "#df_movies = df_overview.merge(df_movies, on='movie_name', how='left')\n",
    "#df_ratings = df_ratings.merge(df_movies, on=['movie_id'], how='left')\n",
    "#df_ratings.drop(['genres','movie_id', 'overview'], axis=1, inplace=True)\n",
    "\n",
    "df_ratings = pd.read_csv(\"./artifacts/cleaned_dfs/ratings_cleaned_df.csv\")\n",
    "df_movies = pd.read_csv(\"./artifacts/cleaned_dfs/movies_cleaned_df.csv\")\n",
    "\n",
    "df_ratings = df_ratings.drop('Unnamed: 0' , axis = 1)\n",
    "df_movies = df_movies.drop('Unnamed: 0' , axis = 1)\n",
    "\n",
    "df_ratings.columns = ['UserID','MovieID','Rating','Timestamp']\n",
    "df_ratings.drop(['Timestamp'], axis=1, inplace=True)\n",
    "\n",
    "\n",
    "df_ratings = df_ratings[df_ratings['MovieID'].isin(df_movies['MovieID'])]\n",
    "df_ratings = df_ratings.merge(df_movies , on = 'MovieID' , how = 'left')\n",
    "\n",
    "df_ratings = df_ratings[['UserID','Title','Rating']]\n"
   ]
  },
  {
   "cell_type": "code",
   "execution_count": 4,
   "metadata": {},
   "outputs": [
    {
     "data": {
      "text/html": [
       "<div>\n",
       "<style scoped>\n",
       "    .dataframe tbody tr th:only-of-type {\n",
       "        vertical-align: middle;\n",
       "    }\n",
       "\n",
       "    .dataframe tbody tr th {\n",
       "        vertical-align: top;\n",
       "    }\n",
       "\n",
       "    .dataframe thead th {\n",
       "        text-align: right;\n",
       "    }\n",
       "</style>\n",
       "<table border=\"1\" class=\"dataframe\">\n",
       "  <thead>\n",
       "    <tr style=\"text-align: right;\">\n",
       "      <th></th>\n",
       "      <th>UserID</th>\n",
       "      <th>Title</th>\n",
       "      <th>Rating</th>\n",
       "    </tr>\n",
       "  </thead>\n",
       "  <tbody>\n",
       "    <tr>\n",
       "      <th>0</th>\n",
       "      <td>1</td>\n",
       "      <td>One Flew Over the Cuckoo's Nest</td>\n",
       "      <td>5</td>\n",
       "    </tr>\n",
       "    <tr>\n",
       "      <th>1</th>\n",
       "      <td>1</td>\n",
       "      <td>James and the Giant Peach</td>\n",
       "      <td>3</td>\n",
       "    </tr>\n",
       "    <tr>\n",
       "      <th>2</th>\n",
       "      <td>1</td>\n",
       "      <td>My Fair Lady</td>\n",
       "      <td>3</td>\n",
       "    </tr>\n",
       "    <tr>\n",
       "      <th>3</th>\n",
       "      <td>1</td>\n",
       "      <td>Erin Brockovich</td>\n",
       "      <td>4</td>\n",
       "    </tr>\n",
       "    <tr>\n",
       "      <th>4</th>\n",
       "      <td>1</td>\n",
       "      <td>Bug's Life, A</td>\n",
       "      <td>5</td>\n",
       "    </tr>\n",
       "  </tbody>\n",
       "</table>\n",
       "</div>"
      ],
      "text/plain": [
       "   UserID                            Title  Rating\n",
       "0       1  One Flew Over the Cuckoo's Nest       5\n",
       "1       1        James and the Giant Peach       3\n",
       "2       1                     My Fair Lady       3\n",
       "3       1                  Erin Brockovich       4\n",
       "4       1                    Bug's Life, A       5"
      ]
     },
     "execution_count": 4,
     "metadata": {},
     "output_type": "execute_result"
    }
   ],
   "source": [
    "df_ratings.head()"
   ]
  },
  {
   "cell_type": "code",
   "execution_count": null,
   "metadata": {},
   "outputs": [],
   "source": [
    "learn = load_learner('collab_model2.pkl')\n",
    "# get dataloaders, before using the learner for inference as the learner is empty after loading\n",
    "dls = CollabDataLoaders.from_df(df_ratings, item_name='Title')\n",
    "# after loading we must add the data back in the learner\n",
    "learn.dls = dls"
   ]
  },
  {
   "cell_type": "code",
   "execution_count": 3,
   "metadata": {},
   "outputs": [
    {
     "name": "stdout",
     "output_type": "stream",
     "text": [
      "an error occurred: HTTPSConnectionPool(host='api.themoviedb.org', port=443): Max retries exceeded with url: /3/movie/upcoming?api_key=012269e221ffedf63bb0c20f32df1127&language=en-US&page=1 (Caused by ConnectTimeoutError(<urllib3.connection.HTTPSConnection object at 0x000001F2D1B600E0>, 'Connection to api.themoviedb.org timed out. (connect timeout=None)'))\n"
     ]
    }
   ],
   "source": [
    "## code to search upcoming movies\n",
    "\n",
    "import requests \n",
    "import datetime \n",
    "\n",
    "## code to search upcoming movies\n",
    "\n",
    "def search_upcoming_movie():\n",
    "  api_key = \"012269e221ffedf63bb0c20f32df1127\"\n",
    "  base_url = f\"https://api.themoviedb.org/3/movie/upcoming?api_key={api_key}&language=en-US&page=1\"\n",
    "  \n",
    "  try:\n",
    "    response = requests.get(base_url , verify = False)\n",
    "    response.raise_for_status() #raise an error if API call fails\n",
    "\n",
    "    data = response.json()\n",
    "    data = data['results']\n",
    "\n",
    "    return data \n",
    "  \n",
    "  except requests.exceptions.RequestException as e:\n",
    "    print(f\"an error occurred: {e}\")\n",
    "\n",
    "data = search_upcoming_movie()\n",
    "\n",
    "if data : \n",
    "  for movie in data : \n",
    "    if datetime.datetime.strptime(movie['release_date'] , \"%Y-%m-%d\").date() >= datetime.date.today() : \n",
    "      print(movie['title'])\n",
    "      print(movie['poster_path'])\n",
    "      print(movie['release_date'])\n",
    "\n",
    "  "
   ]
  }
 ],
 "metadata": {
  "kernelspec": {
   "display_name": "minimal_ds",
   "language": "python",
   "name": "python3"
  },
  "language_info": {
   "codemirror_mode": {
    "name": "ipython",
    "version": 3
   },
   "file_extension": ".py",
   "mimetype": "text/x-python",
   "name": "python",
   "nbconvert_exporter": "python",
   "pygments_lexer": "ipython3",
   "version": "3.12.2"
  }
 },
 "nbformat": 4,
 "nbformat_minor": 2
}
